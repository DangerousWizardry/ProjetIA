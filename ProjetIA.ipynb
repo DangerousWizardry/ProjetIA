{
 "cells": [
  {
   "cell_type": "code",
   "execution_count": null,
   "metadata": {},
   "outputs": [],
   "source": [
    "import pandas as pd\n",
    "import numpy as np"
   ]
  },
  {
   "cell_type": "code",
   "execution_count": null,
   "metadata": {},
   "outputs": [],
   "source": [
    "tab = np.loadtxt('Mortality_from_CVD,_cancer,_diabetes_or_CRD_between_exact_ages_30_and_70_percents.txt')"
   ]
  },
  {
   "cell_type": "markdown",
   "metadata": {},
   "source": [
    "Bon je galère mdrr j'arrive même pas à charger le fichier correctement mais au moins il est dans le git\n",
    "Je pense que la problématique ça peut être un truc du genre :\n",
    "\"La mortalité par cancers,CVD, diabètes ou CRD varie-t-elle selon les pays ?\"\n",
    "ou on peut aussi faire un truc du style \"La mortalité par cancers,CVD, diabètes ou CRD est-elle plus importante dans les pays avec un système médical moins développé ?\" comme ça quand on fera nos clusters on pourra peut-être regarder les pays en fonction de leur système médical.\n",
    "Mais ça risque d'être plus compliqué à traîter et si on trouve rien de concluant c'est pas fou donc je nte propose qu'on fasse plutôt la première problématique et qu'on fasse un commentaire sur le système médical des pays si on trouve quelque chose d'intéressant à dire dans le clustering."
   ]
  }
 ],
 "metadata": {
  "kernelspec": {
   "display_name": "Python 3",
   "language": "python",
   "name": "python3"
  },
  "language_info": {
   "codemirror_mode": {
    "name": "ipython",
    "version": 3
   },
   "file_extension": ".py",
   "mimetype": "text/x-python",
   "name": "python",
   "nbconvert_exporter": "python",
   "pygments_lexer": "ipython3",
   "version": "3.8.8"
  }
 },
 "nbformat": 4,
 "nbformat_minor": 4
}
