{
 "cells": [
  {
   "cell_type": "code",
   "execution_count": null,
   "metadata": {},
   "outputs": [],
   "source": [
    "import pandas as pd\n",
    "import numpy as np\n",
    "import seaborn as sns\n",
    "from scipy import stats\n",
    "from sklearn.cluster import KMeans\n",
    "from sklearn import metrics\n",
    "import matplotlib.pyplot as plt"
   ]
  },
  {
   "cell_type": "code",
   "execution_count": null,
   "metadata": {},
   "outputs": [],
   "source": [
    "data=pd.read_csv('data/wb_dataset.txt', sep='\\t',header=0)\n",
    "data"
   ]
  },
  {
   "cell_type": "markdown",
   "metadata": {},
   "source": [
    "Mortalité par cancer en fonction des dépenses en santé du pays, des dépenses directes de chaque citoyen en santé, du PIB et de l'indice de capital humain (World Bank Indice)"
   ]
  },
  {
   "cell_type": "markdown",
   "metadata": {},
   "source": [
    "Attribute selection\n",
    "===================\n",
    "\n",
    "* Remove attributes containing many missing values.\n",
    "\n",
    "* Remove attributes that seem redundant because of strong correlations.\n",
    "\n",
    "* Used derived attributes to exhibit variables that could be more pertinent (relative value, ratio, difference, relative variation, indicator combining several attributes, ...).\n",
    "\n",
    "* Choose a subset of the dimensions to focus on some aspects and/or to simplify the interpretations. For methods that use distances, reduce the number of dimensions between 4 and 6, and standardize the data if necessary.\n",
    "\n",
    "Remark: It is possible to complete the dataset with other sources."
   ]
  },
  {
   "cell_type": "code",
   "execution_count": null,
   "metadata": {},
   "outputs": [],
   "source": [
    "#Renaming attribute for easier use\n",
    "# Time = removed\n",
    "# Time Code = removed\n",
    "# Country Name = country_name\n",
    "# Country Code = country_code\n",
    "# Mortality from CVD, cancer, diabetes or CRD between exact ages 30 and 70 (%) = mortality\n",
    "# Current health expenditure (% of GDP) [SH.XPD.CHEX.GD.ZS] = health_cost_percent\n",
    "# Current health expenditure per capita (current US$) [SH.XPD.CHEX.PC.CD] = health_cost_capita_percent\n",
    "# Out-of-pocket expenditure (% of current health expenditure) [SH.XPD.OOPC.CH.ZS] = health_oop_cost\n",
    "# GDP (current US$) [NY.GDP.MKTP.CD] = gdp\n",
    "# GDP per capita (current US$) [NY.GDP.PCAP.CD] = gdp_capita\n",
    "# Human capital index (HCI) (scale 0-1) [HD.HCI.OVRL] hci"
   ]
  },
  {
   "cell_type": "code",
   "execution_count": null,
   "metadata": {},
   "outputs": [],
   "source": [
    "#Drop the 2 first column (time and time code)\n",
    "data.drop([\"Time\",\"Time Code\"], axis=1, inplace=True)\n",
    "# Remove the last 5 lines that are now empty\n",
    "data.drop(data.tail(5).index,inplace=True)"
   ]
  },
  {
   "cell_type": "code",
   "execution_count": null,
   "metadata": {},
   "outputs": [],
   "source": [
    "data.columns = ['country_name','country_code','mortality','health_cost_percent','health_cost_capita_percent','health_oop_cost','gdp','gdp_capita','hci']\n",
    "data"
   ]
  },
  {
   "cell_type": "code",
   "execution_count": null,
   "metadata": {},
   "outputs": [],
   "source": [
    "hcp=pd.to_numeric(data[data[\"health_cost_percent\"]!=\"..\"][\"health_cost_percent\"],downcast='float')\n",
    "hccp=pd.to_numeric(data[data[\"health_cost_capita_percent\"]!=\"..\"][\"health_cost_capita_percent\"],downcast='float')\n",
    "np.corrcoef(hcp,hccp) #il semble y avoir une corrélation entre health_cost_percent et health_cost_capita_percent\n",
    "#On choisit donc de supprimer la variable health_cost_capita_percent      ###Si tu confirmes mdrr"
   ]
  },
  {
   "cell_type": "code",
   "execution_count": null,
   "metadata": {},
   "outputs": [],
   "source": [
    "gdp = pd.to_numeric(data[data[\"gdp\"]!=\"..\"][\"gdp\"],downcast='float')\n",
    "gdpc = pd.to_numeric(data[data[\"gdp_capita\"]!=\"..\"][\"gdp_capita\"],downcast='float')\n",
    "np.corrcoef(gdp,gdpc) #il ne semble pas y avoir une corrélation très importante entre gdp et gdp_capita"
   ]
  },
  {
   "cell_type": "markdown",
   "metadata": {},
   "source": [
    "Object selection\n",
    "================\n",
    "\n",
    "* Remove objects containing missing values (except if using methods that handle clearly the missing values).\n",
    "\n",
    "* Identified the outliers (exceptional objects, noise, ...) in 1D, 2D, n-dimensions. Keep track of them and eventually remove them.\n"
   ]
  },
  {
   "cell_type": "code",
   "execution_count": null,
   "metadata": {},
   "outputs": [],
   "source": [
    "#We remove the region object because they are already agregate of data which we are not interested into\n",
    "count_removed_region = len(data) - data.index[data['country_code'] == \"ZWE\"][0] - 1\n",
    "if count_removed_region > 0 :\n",
    "    data.drop(data.tail(count_removed_region).index,inplace=True)\n",
    "    \n",
    "print(count_removed_region)"
   ]
  },
  {
   "cell_type": "code",
   "execution_count": null,
   "metadata": {},
   "outputs": [],
   "source": [
    "#We remove the object where we have no data about cancers mortality\n",
    "count_removed_nodata = len(data.loc[data['mortality'] == \"..\"])\n",
    "if (count_removed_nodata > 0):\n",
    "    data.drop(data.index[data['mortality'] == \"..\"],inplace=True)\n",
    "\n",
    "print(count_removed_nodata)"
   ]
  },
  {
   "cell_type": "code",
   "execution_count": null,
   "metadata": {},
   "outputs": [],
   "source": [
    "#We choose to remove the object where more than 1 of the selected attributes are missing\n",
    "missing_attributes = pd.DataFrame(data.apply(pd.Series.value_counts, axis=1)[\"..\"])\n",
    "missing_attributes_index = missing_attributes.index[missing_attributes[\"..\"] > 1]\n",
    "if (len(missing_attributes_index)>0):\n",
    "    data.drop(missing_attributes_index,inplace=True)\n",
    "print(len(missing_attributes_index))\n",
    "data"
   ]
  },
  {
   "cell_type": "code",
   "execution_count": null,
   "metadata": {},
   "outputs": [],
   "source": [
    "pd.to_numeric(data[data[\"mortality\"] != \"..\"][nomColonne], downcast='float')"
   ]
  },
  {
   "cell_type": "code",
   "execution_count": null,
   "metadata": {},
   "outputs": [],
   "source": [
    "#Looking to the outliers"
   ]
  },
  {
   "cell_type": "markdown",
   "metadata": {},
   "source": [
    "\n",
    "Clustering\n",
    "==========\n",
    "\n",
    "* Look for clusters of globular shapes and of arbitrary shapes, using in particular K-means, hierarchical complete/single and DBSCAN.\n",
    "\n",
    "* Compute dendrograms for hierarchical clustering.\n",
    "\n",
    "* Determine good candidates for the number of clusters (using SSE, silhouette coefficient and grouping distance curves).\n",
    "\n",
    "* Study the stability of the K-means convergence.\n",
    "\n",
    "* Compare (using entropy or mutual entropy, and contingency tables) the content of the clusters to a known labelling or to the result of another clustering.\n",
    "\n",
    "* Describe the envelope (the borders) of the clusters using a decision tree (on a dataset having at least 4 dimensions).\n",
    "\n",
    "\n",
    "Remarks:\n",
    "\n",
    "- Removing outliers can improve the stability and the dispersion.\n",
    "\n",
    "- Clustering evaluation can be made by comparing SSE and silhouette coefficient obtain of the data to their values on random dataset or on partially randomize data."
   ]
  },
  {
   "cell_type": "code",
   "execution_count": null,
   "metadata": {},
   "outputs": [],
   "source": [
    "#We choose to remove the object where at least 1 of the selected attributes are missing    ### tu valides? (sinon ça met une erreur dans le clustering)\n",
    "missing_attributes = pd.DataFrame(data.apply(pd.Series.value_counts, axis=1)[\"..\"])\n",
    "missing_attributes_index = missing_attributes.index[missing_attributes[\"..\"] > 0]\n",
    "if (len(missing_attributes_index)>0):\n",
    "    data.drop(missing_attributes_index,inplace=True)\n",
    "print(len(missing_attributes_index))\n",
    "data"
   ]
  },
  {
   "cell_type": "code",
   "execution_count": null,
   "metadata": {},
   "outputs": [],
   "source": [
    "objects_=data.drop(['country_name'],axis=1)\n",
    "objects=objects_.drop(['country_code'],axis=1)\n",
    "km=KMeans() # create a KMeans object (n_clusters=8 par défaut)\n",
    "km.fit(objects) # compute the clusters\n",
    "centroids=km.cluster_centers_ # get the cluster centers\n",
    "print(centroids)"
   ]
  },
  {
   "cell_type": "code",
   "execution_count": null,
   "metadata": {},
   "outputs": [],
   "source": [
    "clusters = km.labels_ # get cluster labels for all objects"
   ]
  },
  {
   "cell_type": "code",
   "execution_count": null,
   "metadata": {},
   "outputs": [],
   "source": [
    "#on peut peut-être faire des ptits graphiques avec sns.scatterplot"
   ]
  },
  {
   "cell_type": "markdown",
   "metadata": {},
   "source": [
    "Hierarchical aggregation :"
   ]
  },
  {
   "cell_type": "code",
   "execution_count": null,
   "metadata": {},
   "outputs": [],
   "source": [
    "import scipy.cluster.hierarchy as sch\n",
    "Z = sch.linkage(objects, method='complete', metric='euclidean')\n",
    "Z[:5]"
   ]
  },
  {
   "cell_type": "markdown",
   "metadata": {},
   "source": [
    "Dendrogram for hierarchical clustering :"
   ]
  },
  {
   "cell_type": "code",
   "execution_count": null,
   "metadata": {},
   "outputs": [],
   "source": [
    "fig = plt.figure(figsize=(20, 40))\n",
    "dendro = sch.dendrogram(Z, orientation='left', leaf_rotation=0, leaf_font_size=15)"
   ]
  },
  {
   "cell_type": "markdown",
   "metadata": {},
   "source": [
    "Determine good candidates for the number of clusters (using SSE, silhouette coefficient and grouping distance curves)"
   ]
  },
  {
   "cell_type": "code",
   "execution_count": null,
   "metadata": {},
   "outputs": [],
   "source": [
    "sse = km.inertia_\n",
    "print(\"sse = \",sse)"
   ]
  },
  {
   "cell_type": "code",
   "execution_count": null,
   "metadata": {},
   "outputs": [],
   "source": [
    "# Get SSE when varying the number of clusters\n",
    "sse_list = []\n",
    "k_list = range(2,11)\n",
    "for i in k_list:\n",
    "    km_i_clusters=KMeans(n_clusters=i)\n",
    "    km_i_clusters.fit(objects)\n",
    "    sse_list = sse_list + [km_i_clusters.inertia_]\n",
    "print(sse_list)"
   ]
  },
  {
   "cell_type": "code",
   "execution_count": null,
   "metadata": {},
   "outputs": [],
   "source": [
    "fig = plt.figure(figsize=(7, 4))\n",
    "plt.plot(k_list,sse_list,'bo--')\n",
    "plt.grid()\n",
    "plt.xlabel(\"nb of clusters\",fontsize=14)\n",
    "plt.ylabel(\"SSE\",fontsize=14)"
   ]
  },
  {
   "cell_type": "markdown",
   "metadata": {},
   "source": [
    "Je sais pas trop comment on interprète ce truc mais je dirais que 4 clusters (ou 5) c'est pas mal mdrr"
   ]
  },
  {
   "cell_type": "markdown",
   "metadata": {},
   "source": [
    "Study the stability of the K-means convergence"
   ]
  },
  {
   "cell_type": "code",
   "execution_count": null,
   "metadata": {},
   "outputs": [],
   "source": [
    "avg_silhouette_coef = []\n",
    "sse_list = []\n",
    "k = 5\n",
    "n_init=1\n",
    "for i in range(100):\n",
    "    km = KMeans(n_clusters=k,init='random',n_init=n_init) # create a KMeans object\n",
    "    km.fit(objects)\n",
    "    labels = km.predict(objects)\n",
    "    sse_list.append(np.sqrt(km.inertia_))\n",
    "    avg_silhouette_coef.append(silhouette_score(objects, labels,metric='euclidean'))"
   ]
  },
  {
   "cell_type": "markdown",
   "metadata": {},
   "source": [
    "Classification\n",
    "==============\n",
    "\n",
    "* Construct a label by discretisation of an attribute (this label can be built by clustering the values of this attribute). Use this label as class label.\n",
    "\n",
    "* Compare the results obtained using decision trees and the K nearest neighbors.\n",
    "\n",
    "* Evaluate the quality of the model using cross validation. Report the score for each subset and the global score.\n",
    "\n",
    "* Modify the learning parameters to detect of possible overfitting.\n",
    "\n",
    "\n",
    "Remarks:\n",
    "\n",
    "- A contingency table can be use to analyse the errors by class.\n",
    "\n",
    "- Removing outliers can reduce error.\n",
    "\n",
    "- A classification model can be use to predict labels of a targeted attribute for objects where this attribute value is missing.\n"
   ]
  },
  {
   "cell_type": "code",
   "execution_count": null,
   "metadata": {},
   "outputs": [],
   "source": []
  },
  {
   "cell_type": "code",
   "execution_count": null,
   "metadata": {},
   "outputs": [],
   "source": []
  },
  {
   "cell_type": "markdown",
   "metadata": {},
   "source": [
    "Report content and format\n",
    "=========================\n",
    "\n",
    "* Keep track of the choices made and justify them.\n",
    "\n",
    "* Give commands and parameters so that the results can be reproduced.\n",
    "\n",
    "* Show in tables some views of subsets of the data, but not the complete view of all objects in the data. Give the attributes and their units, as well as the number of objects used.\n",
    "\n",
    "* Give results (values, graphics,...).\n",
    "\n",
    "* Try to interpret the results in the domain.\n",
    "\n",
    "\n",
    "Remarks:\n",
    "\n",
    "- It is possible to study several subsets of attributes (e.g., one for the clustering part, another for the classification tasks).\n",
    "\n",
    "- The report can suggest directions for future works, e.g., directions that have not been explored due to time constraints.\n",
    "\n",
    "- The document can be split in two reports: one for the clustering and one for the classification tasks.\n"
   ]
  },
  {
   "cell_type": "markdown",
   "metadata": {},
   "source": [
    "How to edit the report\n",
    "======================\n",
    "\n",
    "A way to prepare the report is to add \"Markdows\" cells in the Jupyter notebook to insert text, and use #, ##, ###, #### for headings (section, subsection, subsubsection, paragraph). Next, to get a latex version of the notebook use: \"File -> Download as -> LaTeX\" (this requires Pandoc to be installed https://pandoc.org/installing.html). And then edit the .tex if needed (to add a title page, to clean some parts, ...), before compiling it.\n",
    "\n",
    "IMPORTANT 1: the end of long lines in cells containing python commands can be suppressed (due to the latex verbatim mode), to avoid this use lines of at most 80 characters and use \"\\\" to continue the command on the next line.\n",
    "\n",
    "IMPORTANT 2: if using \"File -> print preview\" to generate a pdf of the notebook, then the sections will not be numbered, and check also that there is no missing part in long lines.\n",
    "\n",
    "IMPORTANT 3: \"File -> Download as -> LaTeX\" may not work for the graphical representation of decision trees, depending on the version of sklearn and on external installed softwares. A workaround is to generate the pdf of the tree and then to include the pdf by a latex command.\n",
    "Example, with a cell containing the code:\n",
    "graph = graphviz.Source(dot_data)\n",
    "graph # to display the tree\n",
    "\n",
    "replace the cell content by:\n",
    "graph = graphviz.Source(dot_data)\n",
    "graph.render(\"out_iris_decision_tree\") # to generate a pdf file\n",
    "\n",
    "then just below this cell add a Markdown cell containing the following tree lines:\n",
    "\\begin{center}\n",
    "\\adjustimage{max size={0.9\\linewidth}{0.9\\paperheight}}{out_iris_decision_tree.pdf}\n",
    "\\end{center}\n",
    "\n",
    "then generate the latex file with \"File -> Download as -> LaTeX\", put the file out_iris_decision_tree.pdf in the folder of the latex file, and compile the latex file.\n",
    "\n",
    "---\n",
    "\n",
    "Zip file to be send by mail\n",
    "===========================\n",
    "(mail to Christophe.Rigotti@insa-lyon.fr and Sergio.Peignier@insa-lyon.fr)\n",
    "\n",
    "Prepare a single folder with name the names of the authors (in lexicographic order): NAME1_NAME2. Zip this folder and send the file NAME1_NAME2.zip\n",
    "\n",
    "The folder must contains:\n",
    "\n",
    "- zip file(s) of the data file(s), (txt format to reproduce the work). \n",
    "\n",
    "- file(s), (txt format or pdf) containing the definitions of the variables given by the data provider.\n",
    "\n",
    "- the Jupyter notebook(s) (format .ipynb to reproduce the work).\n",
    "\n",
    "- the report in one or two pdf files.\n",
    "\n"
   ]
  }
 ],
 "metadata": {
  "kernelspec": {
   "display_name": "Python 3",
   "language": "python",
   "name": "python3"
  },
  "language_info": {
   "codemirror_mode": {
    "name": "ipython",
    "version": 3
   },
   "file_extension": ".py",
   "mimetype": "text/x-python",
   "name": "python",
   "nbconvert_exporter": "python",
   "pygments_lexer": "ipython3",
   "version": "3.8.8"
  }
 },
 "nbformat": 4,
 "nbformat_minor": 4
}
